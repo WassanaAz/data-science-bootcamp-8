{
  "cells": [
    {
      "cell_type": "markdown",
      "metadata": {
        "id": "view-in-github",
        "colab_type": "text"
      },
      "source": [
        "<a href=\"https://colab.research.google.com/github/WassanaAz/data-science-bootcamp-8/blob/main/bootcamp.ipynb\" target=\"_parent\"><img src=\"https://colab.research.google.com/assets/colab-badge.svg\" alt=\"Open In Colab\"/></a>"
      ]
    },
    {
      "cell_type": "code",
      "source": [],
      "metadata": {
        "id": "KS1FjJcqyXQC"
      },
      "execution_count": null,
      "outputs": []
    },
    {
      "cell_type": "markdown",
      "source": [
        "# **Python Programming 101**\n",
        "\n",
        "- variables\n",
        "- data types\n",
        "- data structures\n",
        "    - list\n",
        "    - tuple\n",
        "    - dictionary\n",
        "    - set\n",
        "- function\n",
        "- control flow\n"
      ],
      "metadata": {
        "id": "Q22XcnAdydf3"
      }
    },
    {
      "cell_type": "code",
      "source": [
        "# basic expression / calc\n",
        "\n",
        "print(1+1)\n",
        "print(2*2)\n",
        "print(10/3)\n",
        "print(10//3) #floor\n"
      ],
      "metadata": {
        "id": "t0JM07dBziTG",
        "outputId": "36bbe49a-8ebe-4a0a-d019-770d14433d38",
        "colab": {
          "base_uri": "https://localhost:8080/"
        }
      },
      "execution_count": 9,
      "outputs": [
        {
          "output_type": "stream",
          "name": "stdout",
          "text": [
            "2\n",
            "4\n",
            "3.3333333333333335\n",
            "3\n"
          ]
        }
      ]
    },
    {
      "cell_type": "code",
      "source": [
        "# power\n",
        "3**2"
      ],
      "metadata": {
        "id": "EXiSncJTzxiZ",
        "outputId": "f802ec08-8f0e-4ff7-f4a0-79c30c091ae9",
        "colab": {
          "base_uri": "https://localhost:8080/"
        }
      },
      "execution_count": 11,
      "outputs": [
        {
          "output_type": "execute_result",
          "data": {
            "text/plain": [
              "9"
            ]
          },
          "metadata": {},
          "execution_count": 11
        }
      ]
    },
    {
      "cell_type": "code",
      "source": [
        "## 1. Varaiables\n",
        "my_name = \"Az\"\n",
        "income = 50000\n",
        "expense = 36000\n",
        "saving = income - expense\n",
        "print(saving)\n",
        "\n",
        "my_name = \"Eiei\"\n",
        "print(my_name)"
      ],
      "metadata": {
        "id": "MULiep1F1JXe",
        "outputId": "0e831429-b227-43db-ac57-e615c1833a02",
        "colab": {
          "base_uri": "https://localhost:8080/"
        }
      },
      "execution_count": 17,
      "outputs": [
        {
          "output_type": "stream",
          "name": "stdout",
          "text": [
            "14000\n",
            "Eiei\n"
          ]
        }
      ]
    },
    {
      "cell_type": "code",
      "source": [
        "## delete varc\n",
        "del my_name"
      ],
      "metadata": {
        "id": "9wjHxYD-2arG"
      },
      "execution_count": 15,
      "outputs": []
    },
    {
      "cell_type": "code",
      "source": [
        "del saving"
      ],
      "metadata": {
        "id": "svq5uFuA2ePd"
      },
      "execution_count": 18,
      "outputs": []
    },
    {
      "cell_type": "code",
      "source": [
        "## print string\n",
        "my_name = \"Az\"\n",
        "age = 35\n",
        "fav_color = \"rose gold\""
      ],
      "metadata": {
        "id": "vSJdp3Nq2hmk"
      },
      "execution_count": 26,
      "outputs": []
    },
    {
      "cell_type": "code",
      "source": [
        "## fstring\n",
        "## string template\n",
        "f\"Hi my name is {my_name} and I'm {age} years old. My favourite color is {fav_color}.\""
      ],
      "metadata": {
        "id": "ORxgF4m024WD",
        "outputId": "2b716818-6d30-470b-a187-1eb214cdf2fb",
        "colab": {
          "base_uri": "https://localhost:8080/",
          "height": 36
        }
      },
      "execution_count": 27,
      "outputs": [
        {
          "output_type": "execute_result",
          "data": {
            "text/plain": [
              "\"Hi my name is Az and I'm 35 years old. My favourite color is rose gold.\""
            ],
            "application/vnd.google.colaboratory.intrinsic+json": {
              "type": "string"
            }
          },
          "metadata": {},
          "execution_count": 27
        }
      ]
    },
    {
      "cell_type": "code",
      "source": [
        "## Str + Str\n",
        "## Str * 3\n",
        "\n",
        "\"bp\" + \" blue\"\n",
        "\"bb\"*2"
      ],
      "metadata": {
        "id": "3fCY1M9N3ErT",
        "outputId": "bbf7402a-09bf-4b92-ef71-57a9edf064b7",
        "colab": {
          "base_uri": "https://localhost:8080/",
          "height": 36
        }
      },
      "execution_count": 31,
      "outputs": [
        {
          "output_type": "execute_result",
          "data": {
            "text/plain": [
              "'bbbb'"
            ],
            "application/vnd.google.colaboratory.intrinsic+json": {
              "type": "string"
            }
          },
          "metadata": {},
          "execution_count": 31
        }
      ]
    },
    {
      "cell_type": "code",
      "source": [
        "\"bb\"*2\n"
      ],
      "metadata": {
        "id": "81La0WFv3ywB",
        "outputId": "ba2329f3-8681-4a53-b2f2-933b7a4f1840",
        "colab": {
          "base_uri": "https://localhost:8080/",
          "height": 36
        }
      },
      "execution_count": 30,
      "outputs": [
        {
          "output_type": "execute_result",
          "data": {
            "text/plain": [
              "'bbbb'"
            ],
            "application/vnd.google.colaboratory.intrinsic+json": {
              "type": "string"
            }
          },
          "metadata": {},
          "execution_count": 30
        }
      ]
    },
    {
      "cell_type": "code",
      "source": [
        "user_name = input(\"How old are you?\")\n",
        "print(\"Hi your name : \" + user_name)"
      ],
      "metadata": {
        "id": "HSugWR2p338O",
        "outputId": "c3589e0b-75fa-460e-cc05-2a241ac7f202",
        "colab": {
          "base_uri": "https://localhost:8080/"
        }
      },
      "execution_count": 32,
      "outputs": [
        {
          "output_type": "stream",
          "name": "stdout",
          "text": [
            "How old are you?DD\n",
            "Hi your name : DD\n"
          ]
        }
      ]
    },
    {
      "cell_type": "code",
      "source": [
        "## define a new function\n",
        "def add_two_num(val1, val2):\n",
        "    return val1 + val2"
      ],
      "metadata": {
        "id": "_-TCffWn8UYW"
      },
      "execution_count": 55,
      "outputs": []
    },
    {
      "cell_type": "code",
      "source": [
        "result = add_two_num(5,10)\n",
        "print(result)"
      ],
      "metadata": {
        "id": "323lv8ub-HEB",
        "outputId": "9fe9ef70-7476-493e-ad4e-63ba61ba5084",
        "colab": {
          "base_uri": "https://localhost:8080/"
        }
      },
      "execution_count": 56,
      "outputs": [
        {
          "output_type": "stream",
          "name": "stdout",
          "text": [
            "15\n"
          ]
        }
      ]
    },
    {
      "cell_type": "code",
      "source": [
        "## default argrument\n",
        "def greeting(name = \"Az1\", food = \"KFC\"):\n",
        "    return f\"Hello!  {name}. I like {food}.\""
      ],
      "metadata": {
        "id": "Ptsrg_0a-KLR"
      },
      "execution_count": 58,
      "outputs": []
    },
    {
      "cell_type": "code",
      "source": [
        "greeting(\"Az\",\"Yum\")"
      ],
      "metadata": {
        "id": "OSqRH0L5-gkW",
        "outputId": "21004da8-1ea7-48f2-8482-03f2e71b4df7",
        "colab": {
          "base_uri": "https://localhost:8080/",
          "height": 36
        }
      },
      "execution_count": 51,
      "outputs": [
        {
          "output_type": "execute_result",
          "data": {
            "text/plain": [
              "'Hello!  Az. I like Yum.'"
            ],
            "application/vnd.google.colaboratory.intrinsic+json": {
              "type": "string"
            }
          },
          "metadata": {},
          "execution_count": 51
        }
      ]
    },
    {
      "cell_type": "code",
      "source": [
        "greeting()"
      ],
      "metadata": {
        "id": "KWPbEvvY-t-4",
        "outputId": "4e6d2fcd-bc70-4832-d3c9-dff2f7329aae",
        "colab": {
          "base_uri": "https://localhost:8080/",
          "height": 36
        }
      },
      "execution_count": 52,
      "outputs": [
        {
          "output_type": "execute_result",
          "data": {
            "text/plain": [
              "'Hello!  Az1. I like KFC.'"
            ],
            "application/vnd.google.colaboratory.intrinsic+json": {
              "type": "string"
            }
          },
          "metadata": {},
          "execution_count": 52
        }
      ]
    },
    {
      "cell_type": "code",
      "source": [
        "greeting(food = \"lays\" ,name =\"Papa\")"
      ],
      "metadata": {
        "id": "D6Cu8IrZ_BYR",
        "outputId": "afac49ac-63aa-43ca-9e71-bc647ea55b0a",
        "colab": {
          "base_uri": "https://localhost:8080/",
          "height": 36
        }
      },
      "execution_count": 53,
      "outputs": [
        {
          "output_type": "execute_result",
          "data": {
            "text/plain": [
              "'Hello!  Papa. I like lays.'"
            ],
            "application/vnd.google.colaboratory.intrinsic+json": {
              "type": "string"
            }
          },
          "metadata": {},
          "execution_count": 53
        }
      ]
    },
    {
      "cell_type": "code",
      "source": [
        "## fn get input  from user\n",
        "def greeting_v2():\n",
        "    name = input(\"What is your name? \")\n",
        "    return f\"hello {name}\"\n"
      ],
      "metadata": {
        "id": "lKvPv7-N_YTz"
      },
      "execution_count": 59,
      "outputs": []
    },
    {
      "cell_type": "code",
      "source": [
        "greeting_v2()"
      ],
      "metadata": {
        "id": "cJVP8Hra_7aS",
        "outputId": "18507a85-d63f-480a-f1a3-e9e10400c23a",
        "colab": {
          "base_uri": "https://localhost:8080/",
          "height": 54
        }
      },
      "execution_count": 61,
      "outputs": [
        {
          "name": "stdout",
          "output_type": "stream",
          "text": [
            "What is your name? DDDD\n"
          ]
        },
        {
          "output_type": "execute_result",
          "data": {
            "text/plain": [
              "'hello DDDD'"
            ],
            "application/vnd.google.colaboratory.intrinsic+json": {
              "type": "string"
            }
          },
          "metadata": {},
          "execution_count": 61
        }
      ]
    },
    {
      "cell_type": "code",
      "source": [
        "## fn that return multiple values\n",
        "def demo():\n",
        "    name1 = input(\"Enter name: \")\n",
        "    name2 = input(\"Enter name: \")\n",
        "    return (name1, name2)"
      ],
      "metadata": {
        "id": "kMBRXkWZ_-Ml"
      },
      "execution_count": 64,
      "outputs": []
    },
    {
      "cell_type": "code",
      "source": [
        "demo()"
      ],
      "metadata": {
        "id": "Q3esZgrsAn1h",
        "outputId": "1cc0d5a2-4959-499f-91ff-3e9703a86d59",
        "colab": {
          "base_uri": "https://localhost:8080/"
        }
      },
      "execution_count": 65,
      "outputs": [
        {
          "name": "stdout",
          "output_type": "stream",
          "text": [
            "Enter name: a\n",
            "Enter name: bb\n"
          ]
        },
        {
          "output_type": "execute_result",
          "data": {
            "text/plain": [
              "('a', 'bb')"
            ]
          },
          "metadata": {},
          "execution_count": 65
        }
      ]
    },
    {
      "cell_type": "code",
      "source": [
        "# list\n",
        "shopping_list =[\"egg\",\"bread\",100]"
      ],
      "metadata": {
        "id": "J67O0lyWAqkH"
      },
      "execution_count": 68,
      "outputs": []
    },
    {
      "cell_type": "code",
      "source": [
        "shopping_list"
      ],
      "metadata": {
        "id": "lz6GdHh1BvaK",
        "outputId": "91b28972-5c9b-466c-960b-7754e6c5cdfd",
        "colab": {
          "base_uri": "https://localhost:8080/"
        }
      },
      "execution_count": 72,
      "outputs": [
        {
          "output_type": "execute_result",
          "data": {
            "text/plain": [
              "['egg', 'bread', 100, 'noodle']"
            ]
          },
          "metadata": {},
          "execution_count": 72
        }
      ]
    },
    {
      "cell_type": "code",
      "source": [
        "## method list.append()\n",
        "shopping_list.append(\"noodle\")"
      ],
      "metadata": {
        "id": "6Q3wC-ptBxCL"
      },
      "execution_count": 94,
      "outputs": []
    },
    {
      "cell_type": "code",
      "source": [
        "shopping_list.append(\"ิbanana\")\n",
        "shopping_list"
      ],
      "metadata": {
        "id": "PTuZ9XsVCKt1",
        "outputId": "08a776bc-5573-45c2-b748-b20536196ecf",
        "colab": {
          "base_uri": "https://localhost:8080/"
        }
      },
      "execution_count": 75,
      "outputs": [
        {
          "output_type": "execute_result",
          "data": {
            "text/plain": [
              "['egg', 'bread', 100, 'noodle', 'noodle', 'noodle', 'ิbanana']"
            ]
          },
          "metadata": {},
          "execution_count": 75
        }
      ]
    },
    {
      "cell_type": "code",
      "source": [
        "shopping_list.insert(0, \"grape\")"
      ],
      "metadata": {
        "id": "sNTnhL6QCnW3"
      },
      "execution_count": 76,
      "outputs": []
    },
    {
      "cell_type": "code",
      "source": [
        "shopping_list"
      ],
      "metadata": {
        "id": "sKKvIHHSC1Ul",
        "outputId": "13137503-fb10-46d8-d526-7eac5b869720",
        "colab": {
          "base_uri": "https://localhost:8080/"
        }
      },
      "execution_count": 77,
      "outputs": [
        {
          "output_type": "execute_result",
          "data": {
            "text/plain": [
              "['grape', 'egg', 'bread', 100, 'noodle', 'noodle', 'noodle', 'ิbanana']"
            ]
          },
          "metadata": {},
          "execution_count": 77
        }
      ]
    },
    {
      "cell_type": "code",
      "source": [
        "## update values if we know index\n",
        "shopping_list[0] = \"grape1\""
      ],
      "metadata": {
        "id": "LF04CiyWC2wQ"
      },
      "execution_count": 95,
      "outputs": []
    },
    {
      "cell_type": "code",
      "source": [
        "shopping_list"
      ],
      "metadata": {
        "id": "17oOxd54C9cK",
        "outputId": "92c92310-c8cc-42df-cf88-3002f9c987e9",
        "colab": {
          "base_uri": "https://localhost:8080/"
        }
      },
      "execution_count": 82,
      "outputs": [
        {
          "output_type": "execute_result",
          "data": {
            "text/plain": [
              "['grape1', 'egg', 'bread', 100, 'noodle', 'noodle', 'noodle', 'ิbanana']"
            ]
          },
          "metadata": {},
          "execution_count": 82
        }
      ]
    },
    {
      "cell_type": "code",
      "source": [
        "shopping_list.insert(2,\"milk\")"
      ],
      "metadata": {
        "id": "kPjoM_YaDKxZ"
      },
      "execution_count": 96,
      "outputs": []
    },
    {
      "cell_type": "code",
      "source": [
        "shopping_list"
      ],
      "metadata": {
        "id": "j14nbwsgDb5U",
        "outputId": "f9f01532-e32a-4cd7-85b4-f3379f2c6d1b",
        "colab": {
          "base_uri": "https://localhost:8080/"
        }
      },
      "execution_count": 84,
      "outputs": [
        {
          "output_type": "execute_result",
          "data": {
            "text/plain": [
              "['grape1',\n",
              " 'egg',\n",
              " 'milk',\n",
              " 'bread',\n",
              " 100,\n",
              " 'noodle',\n",
              " 'noodle',\n",
              " 'noodle',\n",
              " 'ิbanana']"
            ]
          },
          "metadata": {},
          "execution_count": 84
        }
      ]
    },
    {
      "cell_type": "code",
      "source": [
        "## count items in list\n",
        "len(shopping_list)"
      ],
      "metadata": {
        "id": "jhimhFLZDd36",
        "outputId": "27d7f34e-6397-4c28-8fb7-bb66d97be073",
        "colab": {
          "base_uri": "https://localhost:8080/"
        }
      },
      "execution_count": 97,
      "outputs": [
        {
          "output_type": "execute_result",
          "data": {
            "text/plain": [
              "8"
            ]
          },
          "metadata": {},
          "execution_count": 97
        }
      ]
    },
    {
      "cell_type": "code",
      "source": [
        "shopping_list.pop() ## remove the last element\n"
      ],
      "metadata": {
        "id": "MScYnbqnDqkj",
        "outputId": "847308ed-a3e0-4477-8ee7-bc2e67720a84",
        "colab": {
          "base_uri": "https://localhost:8080/",
          "height": 36
        }
      },
      "execution_count": 98,
      "outputs": [
        {
          "output_type": "execute_result",
          "data": {
            "text/plain": [
              "'noodle'"
            ],
            "application/vnd.google.colaboratory.intrinsic+json": {
              "type": "string"
            }
          },
          "metadata": {},
          "execution_count": 98
        }
      ]
    },
    {
      "cell_type": "code",
      "source": [
        "shopping_list"
      ],
      "metadata": {
        "id": "PCdZlK4yECzc",
        "outputId": "c3eb8373-08b4-40a0-ffd5-9fad4bb1ae87",
        "colab": {
          "base_uri": "https://localhost:8080/"
        }
      },
      "execution_count": 89,
      "outputs": [
        {
          "output_type": "execute_result",
          "data": {
            "text/plain": [
              "['grape1', 'egg', 'milk', 'bread', 100, 'noodle', 'noodle']"
            ]
          },
          "metadata": {},
          "execution_count": 89
        }
      ]
    },
    {
      "cell_type": "code",
      "source": [
        "shopping_list.remove(\"noodle\") ## remove specific element"
      ],
      "metadata": {
        "id": "18qL-UDREFAh"
      },
      "execution_count": 99,
      "outputs": []
    },
    {
      "cell_type": "code",
      "source": [
        "shopping_list"
      ],
      "metadata": {
        "id": "qwS89POOEVUR",
        "outputId": "05eb5ab1-7939-41db-c4ab-1c47a14a2b4b",
        "colab": {
          "base_uri": "https://localhost:8080/"
        }
      },
      "execution_count": 92,
      "outputs": [
        {
          "output_type": "execute_result",
          "data": {
            "text/plain": [
              "['grape1', 'egg', 'milk', 'bread', 100, 'noodle']"
            ]
          },
          "metadata": {},
          "execution_count": 92
        }
      ]
    },
    {
      "cell_type": "code",
      "source": [
        "## add two lists together\n",
        "item1 = ['banana','orange']\n",
        "item2 = ['milk','bread']\n",
        "\n",
        "full_list = item1 + item2\n",
        "full_list"
      ],
      "metadata": {
        "id": "tk2dChVlEXa_",
        "outputId": "e79a8b3c-d846-4a7b-f660-c2c8b4b26ab0",
        "colab": {
          "base_uri": "https://localhost:8080/"
        }
      },
      "execution_count": 108,
      "outputs": [
        {
          "output_type": "execute_result",
          "data": {
            "text/plain": [
              "['banana', 'orange', 'milk', 'bread']"
            ]
          },
          "metadata": {},
          "execution_count": 108
        }
      ]
    },
    {
      "cell_type": "code",
      "source": [
        "full_list.sort()"
      ],
      "metadata": {
        "id": "4-mgzIyjFBO5"
      },
      "execution_count": 103,
      "outputs": []
    },
    {
      "cell_type": "code",
      "source": [
        "##  highlight how to use list\n",
        "item1 = ['banana','orange']\n",
        "item2 = item1.copy()\n",
        "item1[0] = \"longan\"\n",
        "\n",
        "print(item1, item2)"
      ],
      "metadata": {
        "id": "5vIjELYbFFVX",
        "outputId": "701500b8-11d0-4dba-dbfa-cbf3d8c06ff7",
        "colab": {
          "base_uri": "https://localhost:8080/"
        }
      },
      "execution_count": 109,
      "outputs": [
        {
          "output_type": "stream",
          "name": "stdout",
          "text": [
            "['longan', 'orange'] ['banana', 'orange']\n"
          ]
        }
      ]
    },
    {
      "cell_type": "code",
      "source": [
        "## tuple () very similar to list\n",
        "## tuple is immutable\n",
        "## while, list is mutable\n",
        "friends = ('az','toy')\n",
        "friends"
      ],
      "metadata": {
        "id": "U52KWyK9FiuU",
        "outputId": "fa1cd85f-359a-461a-a56e-faa2b7a8aa3d",
        "colab": {
          "base_uri": "https://localhost:8080/"
        }
      },
      "execution_count": 110,
      "outputs": [
        {
          "output_type": "execute_result",
          "data": {
            "text/plain": [
              "('az', 'toy')"
            ]
          },
          "metadata": {},
          "execution_count": 110
        }
      ]
    },
    {
      "cell_type": "code",
      "source": [
        "friends[0] = \"Do\""
      ],
      "metadata": {
        "id": "gLmaXCKJGrjH",
        "outputId": "6676d2bd-759c-4248-cec6-8d773e08b346",
        "colab": {
          "base_uri": "https://localhost:8080/",
          "height": 181
        }
      },
      "execution_count": 111,
      "outputs": [
        {
          "output_type": "error",
          "ename": "TypeError",
          "evalue": "ignored",
          "traceback": [
            "\u001b[0;31m---------------------------------------------------------------------------\u001b[0m",
            "\u001b[0;31mTypeError\u001b[0m                                 Traceback (most recent call last)",
            "\u001b[0;32m<ipython-input-111-95da8e65d605>\u001b[0m in \u001b[0;36m<cell line: 1>\u001b[0;34m()\u001b[0m\n\u001b[0;32m----> 1\u001b[0;31m \u001b[0mfriends\u001b[0m\u001b[0;34m[\u001b[0m\u001b[0;36m0\u001b[0m\u001b[0;34m]\u001b[0m \u001b[0;34m=\u001b[0m \u001b[0;34m\"Do\"\u001b[0m\u001b[0;34m\u001b[0m\u001b[0;34m\u001b[0m\u001b[0m\n\u001b[0m",
            "\u001b[0;31mTypeError\u001b[0m: 'tuple' object does not support item assignment"
          ]
        }
      ]
    },
    {
      "cell_type": "code",
      "source": [
        "friends.count(\"mary\")"
      ],
      "metadata": {
        "id": "iwRhULSaGvjA",
        "outputId": "6c066a22-d7ba-4d19-8db9-25fd05dae3a4",
        "colab": {
          "base_uri": "https://localhost:8080/"
        }
      },
      "execution_count": 112,
      "outputs": [
        {
          "output_type": "execute_result",
          "data": {
            "text/plain": [
              "0"
            ]
          },
          "metadata": {},
          "execution_count": 112
        }
      ]
    },
    {
      "cell_type": "code",
      "source": [
        "## dictionary {}\n",
        "## key value pair\n",
        "\n",
        "\n",
        "az = {\n",
        "    \"fname\" : \"Wassana\",\n",
        "    \"lname\" : \"Metha\",\n",
        "    \"color\" : \"red\"\n",
        " }"
      ],
      "metadata": {
        "id": "PjH6eElIG1_S"
      },
      "execution_count": 113,
      "outputs": []
    },
    {
      "cell_type": "code",
      "source": [
        "az[\"lname\"]"
      ],
      "metadata": {
        "id": "8Bnu2aKSIizT",
        "outputId": "8207296a-1e35-4533-eb05-3324b38244ff",
        "colab": {
          "base_uri": "https://localhost:8080/",
          "height": 36
        }
      },
      "execution_count": 116,
      "outputs": [
        {
          "output_type": "execute_result",
          "data": {
            "text/plain": [
              "'Metha'"
            ],
            "application/vnd.google.colaboratory.intrinsic+json": {
              "type": "string"
            }
          },
          "metadata": {},
          "execution_count": 116
        }
      ]
    },
    {
      "cell_type": "code",
      "source": [
        "## update value in dict\n"
      ],
      "metadata": {
        "id": "EOba6YsOIldt"
      },
      "execution_count": 117,
      "outputs": []
    },
    {
      "cell_type": "code",
      "source": [
        "## Set {unique set}\n",
        "fruits = {\"apple\", \"orange\",\"banana\", \"banana\"}"
      ],
      "metadata": {
        "id": "DKJcPooAJ_o_"
      },
      "execution_count": 118,
      "outputs": []
    },
    {
      "cell_type": "code",
      "source": [
        "fruits"
      ],
      "metadata": {
        "id": "jh9HA2BcKKkU",
        "outputId": "fed91463-7a28-4a65-fc38-b55593f5d593",
        "colab": {
          "base_uri": "https://localhost:8080/"
        }
      },
      "execution_count": 119,
      "outputs": [
        {
          "output_type": "execute_result",
          "data": {
            "text/plain": [
              "{'apple', 'banana', 'orange'}"
            ]
          },
          "metadata": {},
          "execution_count": 119
        }
      ]
    },
    {
      "cell_type": "code",
      "source": [],
      "metadata": {
        "id": "B0uBYphiKL0a"
      },
      "execution_count": null,
      "outputs": []
    }
  ],
  "metadata": {
    "colab": {
      "name": "scratchpad",
      "provenance": [],
      "include_colab_link": true
    },
    "kernelspec": {
      "display_name": "Python 3",
      "name": "python3"
    }
  },
  "nbformat": 4,
  "nbformat_minor": 0
}